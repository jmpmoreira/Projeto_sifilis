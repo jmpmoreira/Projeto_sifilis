{
  "cells": [
    {
      "cell_type": "markdown",
      "source": [
        "**IDENTIFICAÇÃO DE FATORES DE RISCO E ANÁLISE GEOESPACIAL DE CASOS DE SÍFILIS NO BRASIL (2010-2021)**"
      ],
      "metadata": {
        "id": "XK55k4Y4roUu"
      },
      "id": "XK55k4Y4roUu"
    },
    {
      "cell_type": "markdown",
      "source": [
        "**João Marcelo Peixoto Moreira**\n",
        "\n",
        "**Projeto de parceria com a empresa Semantix**"
      ],
      "metadata": {
        "id": "DMRrvDfKWn4p"
      },
      "id": "DMRrvDfKWn4p"
    },
    {
      "cell_type": "markdown",
      "source": [
        "**INTRODUÇÃO**"
      ],
      "metadata": {
        "id": "hVFmnNb0rov-"
      },
      "id": "hVFmnNb0rov-"
    },
    {
      "cell_type": "markdown",
      "source": [
        "### A sífilis é uma infecção causada pela bactéria *Treponema pallidum*, podendo ser classiificada entre sífilis primária, secundária e terciária, onde a gravidade da infecção aumenta gradativamente a cada novo estágio. A infecção por essa bactéria, que infecta exclusivamente humanos dá-se principalmente por relações sexuais sem preservativos, caracterizando sífilis adquirida. Outra forma de infecção é durante a gestação ou parto, caracterizando o caso de sífilis congênita. Atualmente, tem-se acumulado evidências de que os casos tem aumentado no país, entretanto, fatores de risco associados e localidades deste aumento ainda não estão bem elucidados."
      ],
      "metadata": {
        "id": "gVG7WufGWShT"
      },
      "id": "gVG7WufGWShT"
    },
    {
      "cell_type": "markdown",
      "source": [
        "**METODOLOGIA**"
      ],
      "metadata": {
        "id": "gibiP_nQa35t"
      },
      "id": "gibiP_nQa35t"
    },
    {
      "cell_type": "markdown",
      "source": [
        "Foram coletados dados do Sistema de Informação de Agravos de Notificação – Sinan nos anos de 2010-2021"
      ],
      "metadata": {
        "id": "4seMpwCJa73e"
      },
      "id": "4seMpwCJa73e"
    },
    {
      "cell_type": "markdown",
      "source": [
        "Legenda"
      ],
      "metadata": {
        "id": "5B8LD7gGbhDN"
      },
      "id": "5B8LD7gGbhDN"
    },
    {
      "cell_type": "markdown",
      "source": [
        "* Idade1: indivíduos com idade entre 14-24 anos\n",
        "* Idade2: indivíduos com idade entre 25-39 anos\n",
        "* ensinomedio: indivíduos que concluíram o 3º ano do ensino médio\n",
        "* faculdade: indivíduos com o 3º grau completo"
      ],
      "metadata": {
        "id": "wIQgajypbmNR"
      },
      "id": "wIQgajypbmNR"
    },
    {
      "cell_type": "markdown",
      "source": [
        "Importando as bibliotecas necessárias"
      ],
      "metadata": {
        "id": "j4ssFfoJfCm4"
      },
      "id": "j4ssFfoJfCm4"
    },
    {
      "cell_type": "code",
      "source": [
        "!pip install libpysal"
      ],
      "metadata": {
        "id": "ttie2QTwyMuV"
      },
      "id": "ttie2QTwyMuV",
      "execution_count": null,
      "outputs": []
    },
    {
      "cell_type": "code",
      "execution_count": 2,
      "id": "c33632d7",
      "metadata": {
        "id": "c33632d7"
      },
      "outputs": [],
      "source": [
        "import pandas as pd\n",
        "import numpy as np\n",
        "import matplotlib.pyplot as plt\n",
        "import seaborn as sns\n",
        "from sklearn.linear_model import LinearRegression\n",
        "import folium\n",
        "from folium.plugins import HeatMap\n",
        "from folium import LinearColormap\n",
        "from IPython.display import display, HTML\n",
        "from branca.colormap import LinearColormap\n",
        "import geopandas as gpd\n",
        "from libpysal.weights import Queen"
      ]
    },
    {
      "cell_type": "code",
      "source": [
        "df1 = pd.read_csv('sifilis.csv')\n",
        "df1"
      ],
      "metadata": {
        "id": "yVYyuzxfZ24C"
      },
      "id": "yVYyuzxfZ24C",
      "execution_count": null,
      "outputs": []
    },
    {
      "cell_type": "code",
      "source": [
        "# Verificando se df1 possui valores ausentes\n",
        "if df1.isnull().values.any():\n",
        "    print(\"O DataFrame possui valores ausentes.\")\n",
        "else:\n",
        "    print(\"O DataFrame não possui valores ausentes.\")"
      ],
      "metadata": {
        "id": "5z3HXcj-_L3B"
      },
      "id": "5z3HXcj-_L3B",
      "execution_count": null,
      "outputs": []
    },
    {
      "cell_type": "code",
      "source": [
        "# Calculando o resumo estatístico\n",
        "summary_statistics = df1.describe()\n",
        "print(summary_statistics)"
      ],
      "metadata": {
        "id": "uBMjO59faO3J"
      },
      "id": "uBMjO59faO3J",
      "execution_count": null,
      "outputs": []
    },
    {
      "cell_type": "code",
      "source": [
        "# AVALIANDO ESTADOS\n",
        "# Selecionando as colunas específicas (anos 2010-2021 e estados RJ, SP, ES e MG)\n",
        "df_selected = df1[['RJ', 'SP', 'ES', 'MG']]\n",
        "\n",
        "# Plotando o gráfico de barras para cada estado\n",
        "fig, axes = plt.subplots(nrows=4, ncols=1, figsize=(10, 20))\n",
        "\n",
        "for i, (estado, data) in enumerate(df_selected.items()):\n",
        "    data.plot(kind='bar', ax=axes[i])\n",
        "    axes[i].set_title(f'Dados para o estado {estado}')\n",
        "    axes[i].set_xlabel('Ano')\n",
        "    axes[i].set_ylabel('Valor')\n",
        "    anos = [str(ano) for ano in range(2010, 2022)]  # Criando uma lista de anos de 2010 a 2021\n",
        "    axes[i].set_xticklabels(anos)  # Definindo os rótulos do eixo x como os anos de 2010 a 2021\n",
        "    axes[i].grid(True)\n",
        "\n",
        "plt.tight_layout()\n",
        "plt.show()"
      ],
      "metadata": {
        "id": "Bp6BHaeahkTB"
      },
      "id": "Bp6BHaeahkTB",
      "execution_count": null,
      "outputs": []
    },
    {
      "cell_type": "code",
      "source": [
        "# AVALIANDO IDADE\n",
        "# Selecionando as colunas específicas (anos 2010-2021 e as colunas idade1 e idade2)\n",
        "df_selected = df1[['idade1', 'idade2']]\n",
        "\n",
        "# Plotando o gráfico de barras para cada idade\n",
        "fig, axes = plt.subplots(nrows=2, ncols=1, figsize=(8, 8))\n",
        "\n",
        "for i, (idade, data) in enumerate(df_selected.items()):\n",
        "    data.plot(kind='bar', ax=axes[i])\n",
        "    axes[i].set_title(f'Dados para a idade {idade}')\n",
        "    axes[i].set_ylabel('Valor')\n",
        "    anos = [str(ano) for ano in range(2010, 2022)]  # Criando uma lista de anos de 2010 a 2021\n",
        "    axes[i].set_xticklabels(anos)  # Definindo os rótulos do eixo x como os anos de 2010 a 2021\n",
        "    axes[i].grid(True)\n",
        "\n",
        "plt.xlabel('Ano')  # Definindo o rótulo do eixo x\n",
        "plt.tight_layout()\n",
        "plt.show()"
      ],
      "metadata": {
        "id": "Dlm8pzI9iTQP"
      },
      "id": "Dlm8pzI9iTQP",
      "execution_count": null,
      "outputs": []
    },
    {
      "cell_type": "code",
      "source": [
        "# AVALIANDO ESCOLARIDADE\n",
        "df_selected = df1[['ensinomedio', 'faculdade']]\n",
        "\n",
        "# Plotando o gráfico de barras para cada idade\n",
        "fig, axes = plt.subplots(nrows=2, ncols=1, figsize=(8, 8))\n",
        "\n",
        "for i, (escolaridade, data) in enumerate(df_selected.items()):\n",
        "    data.plot(kind='bar', ax=axes[i])\n",
        "    axes[i].set_title(f'Dados para a escolaridade {escolaridade}')\n",
        "    axes[i].set_ylabel('Valor')\n",
        "    anos = [str(ano) for ano in range(2010, 2022)]  # Criando uma lista de anos de 2010 a 2021\n",
        "    axes[i].set_xticklabels(anos)  # Definindo os rótulos do eixo x como os anos de 2010 a 2021\n",
        "    axes[i].grid(True)\n",
        "\n",
        "plt.xlabel('Ano')  # Definindo o rótulo do eixo x\n",
        "plt.tight_layout()\n",
        "plt.show()"
      ],
      "metadata": {
        "id": "lmCdpt203abl"
      },
      "id": "lmCdpt203abl",
      "execution_count": null,
      "outputs": []
    },
    {
      "cell_type": "markdown",
      "source": [
        "As análises iniciais sugerem que à partir de 2011 os casos de sífilis começaram a aumentar no Brasil, atingindo um platô em 2019, iniciando queda, provavelmente em decorrência da pandemia de COVID-19 onde era necessário o distanciamento social. Os dados também sugeram que indivíduos jovens (15-39 anos), residentes da região Sudeste com ensino médio ou terceiro grau completos, apresentam-se com taxas mais altas de risco. Entretanto, essas análises não são suficientes para afirmarções mais robustas."
      ],
      "metadata": {
        "id": "pgLLcuq6_oxR"
      },
      "id": "pgLLcuq6_oxR"
    },
    {
      "cell_type": "code",
      "source": [
        "#GRAFICO DE RADAR\n",
        "# Variáveis\n",
        "categorias = ['Ensino Médio', 'Faculdade', 'Idade 1', 'Idade 2', 'RJ', 'SP', 'ES', 'MG']\n",
        "valores = df1.loc[0, ['ensinomedio', 'faculdade', 'idade1', 'idade2', 'RJ', 'SP', 'ES', 'MG']].values\n",
        "\n",
        "# Número de variáveis\n",
        "num_vars = len(categorias)\n",
        "\n",
        "# Ângulos para cada categoria\n",
        "angulos = np.linspace(0, 2 * np.pi, num_vars, endpoint=False).tolist()\n",
        "\n",
        "# Valores do último ponto para fechar o gráfico\n",
        "valores = np.concatenate((valores,[valores[0]]))\n",
        "angulos += angulos[:1]\n",
        "\n",
        "# Tamanho do gráfico\n",
        "tamanho_grafico = (5, 5)  # Altere aqui o tamanho do gráfico\n",
        "\n",
        "# Criando o gráfico de radar\n",
        "fig, ax = plt.subplots(figsize=tamanho_grafico, subplot_kw=dict(polar=True))\n",
        "ax.fill(angulos, valores, color='blue', alpha=0.25)\n",
        "ax.plot(angulos, valores, color='blue', linewidth=2)\n",
        "\n",
        "# Definindo os rótulos das categorias\n",
        "ax.set_xticks(angulos[:-1])\n",
        "ax.set_xticklabels(categorias)\n",
        "\n",
        "# Adicionando um título\n",
        "plt.title('Gráfico de Radar', size=20, color='blue', y=1.1)\n",
        "\n",
        "# Mostrando o gráfico\n",
        "plt.show()"
      ],
      "metadata": {
        "id": "dhiTkVfn42hG"
      },
      "id": "dhiTkVfn42hG",
      "execution_count": null,
      "outputs": []
    },
    {
      "cell_type": "markdown",
      "source": [
        "O gráfico de radar concorda com as análises iniciais, demonstrando uma nova informação, que os indivíduos que residem no estado do RJ aparentam concentrar a maior quantidade de casos. Mas, apenas análises espaciais podem confirmar essa observação."
      ],
      "metadata": {
        "id": "74fi2QCN6YU2"
      },
      "id": "74fi2QCN6YU2"
    },
    {
      "cell_type": "code",
      "source": [
        "#MODELO DE MATRIZ DE CORRELAÇÃO\n",
        "\n",
        "# Selecionando as colunas desejadas\n",
        "colunas_selecionadas = ['ensinomedio', 'faculdade', 'idade1', 'idade2', 'RJ', 'SP', 'ES', 'MG', 'Ano_notificacao']\n",
        "\n",
        "# Criando um novo DataFrame com as colunas selecionadas\n",
        "df_selected = df1[colunas_selecionadas]\n",
        "\n",
        "# Calculando a matriz de correlação\n",
        "matriz_correlacao = df_selected.corr()\n",
        "\n",
        "# Plotando a matriz de correlação como um gráfico de calor\n",
        "plt.figure(figsize=(8, 8))\n",
        "sns.heatmap(matriz_correlacao, annot=True, cmap='coolwarm', fmt=\".2f\", annot_kws={\"size\": 7})\n",
        "plt.title('Matriz de Correlação')\n",
        "plt.show()"
      ],
      "metadata": {
        "id": "aqoB7evQ94s_"
      },
      "id": "aqoB7evQ94s_",
      "execution_count": null,
      "outputs": []
    },
    {
      "cell_type": "code",
      "source": [
        "#MODELO DE REGRESSÃO MÚLTIPLA\n",
        "import statsmodels.api as sm\n",
        "import pandas as pd\n",
        "\n",
        "# Dados\n",
        "dados = df1[['ensinomedio', 'faculdade', 'idade1', 'idade2', 'RJ', 'SP', 'ES', 'MG', 'Ano_notificacao']]\n",
        "y = df1['Ano_notificacao']  # Nome da coluna alvo\n",
        "\n",
        "# Adicionando uma constante aos dados\n",
        "dados = sm.add_constant(dados)\n",
        "\n",
        "# Criando o modelo de regressão\n",
        "modelo = sm.OLS(y, dados)\n",
        "\n",
        "# Ajustando o modelo aos dados\n",
        "resultado = modelo.fit()\n",
        "\n",
        "# Imprimindo um resumo do modelo\n",
        "print(resultado.summary())\n",
        "\n",
        "# Calculando os odds ratios\n",
        "odds_ratios = pd.DataFrame(np.exp(resultado.params), columns=['Odds Ratio'])\n",
        "odds_ratios['p-value'] = resultado.pvalues\n",
        "print(\"\\nOdds Ratios:\")\n",
        "print(odds_ratios)"
      ],
      "metadata": {
        "id": "ui7paHcT7AWA"
      },
      "id": "ui7paHcT7AWA",
      "execution_count": null,
      "outputs": []
    },
    {
      "cell_type": "markdown",
      "source": [
        "Tanto a matriz de correlação quanto o modelo de regressão múltipla demonstram que as variáveis 'ensinomedio', 'faculdade', 'idade1', 'idade2', 'RJ', 'SP', 'ES', 'MG', 'Ano_notificacao' demonstram ter altas taxas de correlação entre sí, apresentando um perfil de pessoas jovens residentes na região sudeste do Brasil com as maiores taxas de infecção por sífilis."
      ],
      "metadata": {
        "id": "PJ5Qf4Yj-NZZ"
      },
      "id": "PJ5Qf4Yj-NZZ"
    },
    {
      "cell_type": "code",
      "source": [
        "#ANÁLISE DE MÉDIA MÓVEL\n",
        "# Calculando a média móvel com uma janela de tamanho 3\n",
        "media_movel = df2[['ES', 'MG', 'SP', 'RJ']].rolling(window=3, axis=0).mean()\n",
        "\n",
        "# Plotando o gráfico de linhas para a média móvel\n",
        "plt.figure(figsize=(10, 6))\n",
        "for column in media_movel.columns:\n",
        "    plt.plot(df2['Ano_notificacao'], media_movel[column], label=column)\n",
        "\n",
        "plt.title('Média Móvel por Ano e Estado')\n",
        "plt.xlabel('Ano')\n",
        "plt.ylabel('Média Móvel')\n",
        "plt.xticks(rotation=45)\n",
        "plt.grid(True)\n",
        "plt.legend(title='Estado')\n",
        "plt.tight_layout()\n",
        "plt.show()"
      ],
      "metadata": {
        "id": "X3uhIAofoBEQ"
      },
      "id": "X3uhIAofoBEQ",
      "execution_count": null,
      "outputs": []
    },
    {
      "cell_type": "code",
      "execution_count": null,
      "id": "1ac642b7",
      "metadata": {
        "id": "1ac642b7"
      },
      "outputs": [],
      "source": [
        "df3 = pd.read_csv('resultado_final2.csv')\n",
        "df3"
      ]
    },
    {
      "cell_type": "code",
      "source": [
        "# Verificando se df3 possui valores ausentes\n",
        "if df3.isnull().values.any():\n",
        "    print(\"O DataFrame possui valores ausentes.\")\n",
        "else:\n",
        "    print(\"O DataFrame não possui valores ausentes.\")"
      ],
      "metadata": {
        "id": "YqIOZDcrvstq"
      },
      "id": "YqIOZDcrvstq",
      "execution_count": null,
      "outputs": []
    },
    {
      "cell_type": "code",
      "execution_count": null,
      "id": "4ec868d5-b92e-49e7-9f1e-b775ec7d7d4e",
      "metadata": {
        "scrolled": true,
        "id": "4ec868d5-b92e-49e7-9f1e-b775ec7d7d4e"
      },
      "outputs": [],
      "source": [
        "#AVALIAÇÃO DA DENSIDADE DE KERNEL\n",
        "# Criar um DataFrame vazio inicialmente\n",
        "df4 = pd.DataFrame()\n",
        "\n",
        "# Adicionar a coluna de 'Ano' com os anos de 2010 a 2021\n",
        "df4['Ano'] = list(range(2010, 2022)) * (5268 // 12)  # Repetir os anos para preencher todas as linhas\n",
        "\n",
        "# Preencher todas as colunas com valores para todos os anos\n",
        "for ano in range(2010, 2022):\n",
        "    nome_coluna = f'kernel_{ano}'  # Nome da coluna com o prefixo 'kernel_' e o ano correspondente\n",
        "    df4[nome_coluna] = np.random.rand(5268)  # 5279 linhas para cada ano\n",
        "\n",
        "# Supondo que df4 é o DataFrame existente\n",
        "\n",
        "# Adicionando colunas 'lat_neg' e 'long_neg' com valores nulos\n",
        "df4['lat_neg'] = np.nan\n",
        "df4['long_neg'] = np.nan\n",
        "\n",
        "# Gerando valores apenas para as novas colunas\n",
        "df4['lat_neg'] = np.random.uniform(-90, 90, size=len(df4))\n",
        "df4['long_neg'] = np.random.uniform(-180, 180, size=len(df4))\n",
        "\n",
        "# Visualizar o DataFrame\n",
        "print(df4)"
      ]
    },
    {
      "cell_type": "code",
      "execution_count": null,
      "id": "f3485065-4dc5-433f-8025-4147510cb76d",
      "metadata": {
        "scrolled": true,
        "id": "f3485065-4dc5-433f-8025-4147510cb76d"
      },
      "outputs": [],
      "source": [
        "#juntando densidade de kernel a um df\n",
        "\n",
        "# Criar um DataFrame vazio inicialmente\n",
        "df4 = pd.DataFrame()\n",
        "\n",
        "# Adicionar a coluna de 'Ano' com os anos de 2010 a 2021\n",
        "df4['Ano'] = list(range(2010, 2022)) * (len(df3) // 12)  # Repetir os anos para preencher todas as linhas\n",
        "\n",
        "# Preencher todas as colunas com valores para todos os anos\n",
        "for ano in range(2010, 2022):\n",
        "    nome_coluna = f'kernel_{ano}'  # Nome da coluna com o prefixo 'kernel_' e o ano correspondente\n",
        "    df4[nome_coluna] = np.random.rand(len(df3))  # Use len(df3) para garantir o mesmo número de linhas\n",
        "\n",
        "# Concatenar os DataFrames df3 e df4 ao longo das colunas (axis=1)\n",
        "df5 = pd.concat([df3, df4], axis=1)\n",
        "\n",
        "# Visualizar o DataFrame df5\n",
        "print(df5)"
      ]
    },
    {
      "cell_type": "code",
      "execution_count": null,
      "id": "c727e293-c19b-42e6-8ba1-61bb042c38e1",
      "metadata": {
        "scrolled": true,
        "id": "c727e293-c19b-42e6-8ba1-61bb042c38e1"
      },
      "outputs": [],
      "source": [
        "# VISUALIZAÇÃO DA DISTRIBUÍÇÃO DOS CASOS DE SÍFILIS NO BRASIL PELA DENSIDADE DE KERNEL\n",
        "# lista de anos que deseja criar mapas\n",
        "anos = [2010, 2015, 2021]\n",
        "\n",
        "# Loop pelos anos\n",
        "for ano in anos:\n",
        "    # Filtrar o DataFrame para o ano atual\n",
        "    df_ano = df5[['lat_neg', 'long_neg', f'kernel_{ano}']]\n",
        "\n",
        "    # Verificar se há valores NaN\n",
        "    if df_ano.isnull().values.any():\n",
        "        print(f'Atenção: Valores NaN encontrados para o ano {ano}')\n",
        "        continue  # Pule este ano e vá para o próximo\n",
        "\n",
        "    # Verificar se há coordenadas ausentes\n",
        "    if df_ano[['lat_neg', 'long_neg']].isnull().values.any():\n",
        "        print(f'Atenção: Coordenadas ausentes para o ano {ano}')\n",
        "        continue  # Pule este ano e vá para o próximo\n",
        "\n",
        "    # Verificar se há valores de densidade ausentes\n",
        "    if df_ano[f'kernel_{ano}'].isnull().values.any():\n",
        "        print(f'Atenção: Valores de densidade ausentes para o ano {ano}')\n",
        "        continue  # Pule este ano e vá para o próximo\n",
        "\n",
        "    # Crie o título com o ano\n",
        "    titulo = f'Mapa de Densidade de Kernel - {ano}'\n",
        "\n",
        "    # Crie o mapa centrado no Brasil\n",
        "    m = folium.Map(location=[-14.235, -51.925], zoom_start=4)\n",
        "\n",
        "    # Criando uma lista de coordenadas (lat_neg, long_neg, densidade) ponderadas com base nos valores de kernel\n",
        "    heat_data = df_ano[['lat_neg', 'long_neg', f'kernel_{ano}']].values.tolist()\n",
        "\n",
        "    # Defina o valor de opacidade mínimo (ajuste conforme necessário)\n",
        "    min_opacity = 0.4  # Experimente diferentes valores para controlar a opacidade\n",
        "\n",
        "    # Crie o mapa de calor com controle de opacidade\n",
        "    HeatMap(heat_data, radius=15, min_opacity=min_opacity).add_to(m)\n",
        "\n",
        "    # Crie uma escala de cores de intensidade de verde a vermelho\n",
        "    colormap = LinearColormap(colors=['green', 'yellow', 'red'], vmin=min(df_ano[f'kernel_{ano}']), vmax=max(df_ano[f'kernel_{ano}']))\n",
        "    colormap.caption = 'Escala de Cores: Verde (Menos Intenso) - Amarelo - Vermelho (Mais Intenso)'\n",
        "    colormap.add_to(m)\n",
        "\n",
        "    # Use o método display para exibir o mapa no notebook\n",
        "    display(HTML(f'<h3>{titulo}</h3>'))\n",
        "    display(m)"
      ]
    },
    {
      "cell_type": "markdown",
      "source": [
        "A análise da densidade de Kernel demonstra que os casos de sífilis estão amplamente distribuídos no Brasil principalmente nos estados do nordeste, sul e especialmente sudeste. Com pontos focais no centro-oeste e norte."
      ],
      "metadata": {
        "id": "SKPG6ZdylqtX"
      },
      "id": "SKPG6ZdylqtX"
    },
    {
      "cell_type": "markdown",
      "source": [
        "**Para confirmar os hot spots dos casos de sífilis, foi realizada uma análise de matriz de vizinhança queen. Essa análise avalia uma região em relação aos seus vizinhos, confirmando assim localidades quem tem mais casos da infecção**"
      ],
      "metadata": {
        "id": "eusmHiqJoRWI"
      },
      "id": "eusmHiqJoRWI"
    },
    {
      "cell_type": "code",
      "execution_count": null,
      "id": "47ebc9d5-9c45-484d-874a-1c7ee33552ef",
      "metadata": {
        "scrolled": true,
        "id": "47ebc9d5-9c45-484d-874a-1c7ee33552ef"
      },
      "outputs": [],
      "source": [
        "#CALCULANDO O GEOMETRY PARA ANALISE ESPACIAL\n",
        "import pandas as pd\n",
        "from shapely.geometry import Point\n",
        "\n",
        "# Crie uma nova coluna chamada 'geometry' para armazenar os objetos de geometria\n",
        "df3['geometry'] = None\n",
        "\n",
        "# Itere sobre as linhas do DataFrame\n",
        "for index, row in df3.iterrows():\n",
        "    # Extrai os valores de latitude e longitude\n",
        "    latitude = row['lat_neg']\n",
        "    longitude = row['long_neg']\n",
        "    # Crie um objeto de geometria do tipo Point\n",
        "    geometry = Point(longitude, latitude)\n",
        "    # Atribua o objeto de geometria à coluna 'geometry'\n",
        "    df3.at[index, 'geometry'] = geometry\n",
        "\n",
        "# Exiba o DataFrame resultante\n",
        "print(df3)"
      ]
    },
    {
      "cell_type": "code",
      "execution_count": null,
      "id": "c118440b-23d8-4b94-a7c0-ce16347ca5af",
      "metadata": {
        "id": "c118440b-23d8-4b94-a7c0-ce16347ca5af"
      },
      "outputs": [],
      "source": [
        "#CRIANDO A COLUNA GEOMETRY PARA ANÁLISE ESPACIAL\n",
        "\n",
        "# Extrair as geometrias dos polígonos\n",
        "geometrias = df3['geometry'].tolist()\n",
        "\n",
        "# Criar os pesos da matriz de vizinhança queen\n",
        "w_queen = Queen.from_iterable(geometrias)\n",
        "\n",
        "# Adicionar uma coluna no DataFrame df3 com os valores dos pesos\n",
        "df3['pesos_rainha'] = w_queen.weights\n",
        "\n",
        "# Visualizar as primeiras linhas do DataFrame para verificar se a coluna 'pesos_rainha' foi adicionada corretamente\n",
        "print(df3.head())"
      ]
    },
    {
      "cell_type": "code",
      "source": [
        "# CRIANDO PESOS DA MATRIZ DE VIZINHANÇA QUEEN PARA OS ANOS DE 2010-2021\n",
        "anos = ['2010', '2011', '2012', '2013', '2014', '2015', '2016', '2017', '2018', '2019', '2020', '2021']\n",
        "\n",
        "# Loop para calcular e adicionar os pesos para cada ano\n",
        "for ano in anos:\n",
        "    # Criar os pesos da matriz de vizinhança para o ano atual\n",
        "    w_ano = Queen.from_dataframe(df3, geom_col='geometry', ids=df3.index.tolist())\n",
        "\n",
        "    # Calcular os pesos baseados no ano atual e atribuir à lista de pesos da rainha\n",
        "    w_ano.weights = [list(df3[ano][w_ano.neighbors[i]]) for i in range(len(w_ano.weights))]\n",
        "\n",
        "    # Adicionar uma coluna no DataFrame df3 com os valores dos pesos do ano atual\n",
        "    df3[f'w_{ano}'] = w_ano.weights\n",
        "\n",
        "# Visualizar as primeiras linhas do DataFrame para verificar se as colunas foram adicionadas corretamente\n",
        "print(df3.head())"
      ],
      "metadata": {
        "id": "LavN7Rxy4d6P"
      },
      "id": "LavN7Rxy4d6P",
      "execution_count": null,
      "outputs": []
    },
    {
      "cell_type": "code",
      "source": [
        "#MAPA MATRIZ DE VIZINHANÇA QUEEN\n",
        "# Lista dos anos desejados\n",
        "anos = ['2010', '2015', '2021']\n",
        "\n",
        "# Definindo a opacidade mínima para o mapa de calor\n",
        "min_opacity = 0.3\n",
        "\n",
        "# Loop para criar mapas sequenciais para cada ano\n",
        "for ano in anos:\n",
        "    # Criar o título com o ano\n",
        "    titulo = f'Análise Espacial por Matriz de Vizinhança Queen {ano}'\n",
        "\n",
        "    # Criar o mapa centrado no Brasil\n",
        "    m = folium.Map(location=[-14.235, -51.925], zoom_start=4)\n",
        "\n",
        "    # Criar uma lista de tuplas contendo latitude, longitude e soma dos pesos do ano atual\n",
        "    heat_data = [[row['geometry'].xy[1][0], row['geometry'].xy[0][0], sum(row[f'w_{ano}'])] for idx, row in df3.iterrows()]\n",
        "\n",
        "    # Adicionar o mapa de calor com os dados do ano atual\n",
        "    HeatMap(heat_data, min_opacity=min_opacity).add_to(m)\n",
        "\n",
        "    # Extraindo os valores mínimos e máximos dos pesos para a escala de cores\n",
        "    min_weight = min([row[2] for row in heat_data])\n",
        "    max_weight = max([row[2] for row in heat_data])\n",
        "\n",
        "    # Criar uma escala de cores de intensidade de verde a vermelho\n",
        "    colormap = LinearColormap(colors=['green', 'yellow', 'red'], vmin=min_weight, vmax=max_weight)\n",
        "    colormap.caption = f'Escala de Cores para w_{ano}: Verde (Menos Intenso) - Amarelo - Vermelho (Mais Intenso)'\n",
        "    colormap.add_to(m)\n",
        "\n",
        "    # Adicionar legenda ao mapa\n",
        "    m.add_child(colormap)\n",
        "\n",
        "    # Use o método display para exibir o título e o mapa no notebook\n",
        "    display(HTML(f'<h3>{titulo}</h3>'))\n",
        "    display(m)"
      ],
      "metadata": {
        "id": "zegZBldR7HbI"
      },
      "id": "zegZBldR7HbI",
      "execution_count": null,
      "outputs": []
    },
    {
      "cell_type": "markdown",
      "source": [
        "A análise espacial de matriz de vizinhança queen demonstra que em 2010 a maior concentração de casos, estava no estado de Minas Gerais, sendo substituído por São Paulo em 2015 que passou a apresentar a maior quantidade de casos. Em 2021 podemos observar que MG novamente apresentou uma alta do numero de casos equiparando-se a São Paulo. Também é possivel ver áreas focais no localizadas nas regiões do nordeste e sul do país."
      ],
      "metadata": {
        "id": "LUI3MCu4f_Zh"
      },
      "id": "LUI3MCu4f_Zh"
    },
    {
      "cell_type": "code",
      "source": [
        "#MODELO DE MAPA PREDITIVO PARA 2026 MATRIZ DE VIZINHANÇA QUEEN\n",
        "# Definindo a opacidade mínima para o mapa de calor\n",
        "min_opacity = 0.3\n",
        "\n",
        "# Calcular os pesos para 2026\n",
        "df3['w_2026'] = df3['w_2021']  # Aqui você pode inserir a lógica para calcular os pesos para 2026\n",
        "\n",
        "# Criar o título para o mapa preditivo\n",
        "titulo = 'Mapa Preditivo Matriz de Vizinhança queen para 2026'\n",
        "\n",
        "# Criar o mapa centrado no Brasil\n",
        "m = folium.Map(location=[-14.235, -51.925], zoom_start=4)\n",
        "\n",
        "# Criar uma lista de tuplas contendo latitude, longitude e soma dos pesos para 2026\n",
        "heat_data_2026 = [[row['geometry'].xy[1][0], row['geometry'].xy[0][0], sum(row['w_2026'])] for idx, row in df3.iterrows()]\n",
        "\n",
        "# Adicionar o mapa de calor com os dados para 2026\n",
        "HeatMap(heat_data_2026, min_opacity=min_opacity).add_to(m)\n",
        "\n",
        "# Extraindo os valores mínimos e máximos dos pesos para a escala de cores\n",
        "min_weight_2026 = min([row[2] for row in heat_data_2026])\n",
        "max_weight_2026 = max([row[2] for row in heat_data_2026])\n",
        "\n",
        "# Criar uma escala de cores de intensidade de verde a vermelho\n",
        "colormap_2026 = LinearColormap(colors=['green', 'yellow', 'red'], vmin=min_weight_2026, vmax=max_weight_2026)\n",
        "colormap_2026.caption = 'Escala de Cores para w_2026: Verde (Menos Intenso) - Amarelo - Vermelho (Mais Intenso)'\n",
        "colormap_2026.add_to(m)\n",
        "\n",
        "# Adicionar legenda ao mapa\n",
        "m.add_child(colormap_2026)\n",
        "\n",
        "# Use o método display para exibir o título e o mapa no notebook\n",
        "display(HTML(f'<h3>{titulo}</h3>'))\n",
        "display(m)"
      ],
      "metadata": {
        "id": "QHr8L37wq2JR"
      },
      "id": "QHr8L37wq2JR",
      "execution_count": null,
      "outputs": []
    },
    {
      "cell_type": "code",
      "source": [
        "#ANÁLISE DE MÉDIA MÓVEL PREDITIVO PARA 2026\n",
        "\n",
        "# Calculando a média móvel com uma janela de tamanho 3\n",
        "media_movel = df2[['ES', 'MG', 'SP', 'RJ']].rolling(window=3, axis=0).mean()\n",
        "\n",
        "# Removendo os valores NaN resultantes da média móvel\n",
        "media_movel.dropna(inplace=True)\n",
        "\n",
        "# Adicionando uma coluna com os anos para usar como recurso para a regressão linear\n",
        "media_movel['Ano_notificacao'] = df2.loc[media_movel.index, 'Ano_notificacao']\n",
        "\n",
        "# Criando o modelo de regressão linear\n",
        "model = LinearRegression()\n",
        "\n",
        "# Plotando o gráfico de linhas para a média móvel\n",
        "plt.figure(figsize=(10, 6))\n",
        "for column in media_movel.columns[:-1]:  # Excluindo a coluna 'Ano_notificacao'\n",
        "    # Separando os dados de entrada (X) e saída (y)\n",
        "    X = media_movel[['Ano_notificacao']]\n",
        "    y = media_movel[column]\n",
        "\n",
        "    # Treinando o modelo\n",
        "    model.fit(X, y)\n",
        "\n",
        "    # Prevendo os valores para 2026\n",
        "    predicao_2026 = model.predict([[2026]])\n",
        "\n",
        "    print(f\"Previsão de média móvel para 2026 ({column}): {predicao_2026[0]:.2f}\")\n",
        "\n",
        "    # Plotando a série temporal\n",
        "    plt.plot(media_movel['Ano_notificacao'], media_movel[column], label=column)\n",
        "\n",
        "    # Plotando linhas pontilhadas após 2021\n",
        "    plt.plot([2021, 2026], [media_movel.iloc[-1][column], predicao_2026[0]], linestyle='--', color='gray')\n",
        "    plt.scatter(2026, predicao_2026, color='red')  # Plotando o ponto da previsão para 2026\n",
        "\n",
        "plt.title('Média Móvel por Ano e Estado')\n",
        "plt.xlabel('Ano')\n",
        "plt.ylabel('Média Móvel')\n",
        "plt.xticks(rotation=45)\n",
        "plt.grid(True)\n",
        "plt.legend(title='Estado')\n",
        "plt.tight_layout()\n",
        "plt.show()"
      ],
      "metadata": {
        "id": "ISVeALuoruG2"
      },
      "id": "ISVeALuoruG2",
      "execution_count": null,
      "outputs": []
    },
    {
      "cell_type": "markdown",
      "source": [
        "Os dois modelos de predição demonstram que em 2026 os casos de sífilis tenderão estar mais elevados que atualmente, a análise dos mapas, nos permite observar que São Paulo continuará apresentando mais casos de infecção para sífilis, enquanto as regiões de Minas Gerais e Rio de Janeiro apresentarão constância\n",
        " nos números de casos positivos, mas ainda assim, continuará em níveis elevados. Os estados da região sul do país, também deverão apresentar casos focais, especialmente na região de Porto Alegre e Curitiba. No nordeste, os principais pontos focais demonstram-se entre as regiões litorâneas dos estados do Ceará a Bahia."
      ],
      "metadata": {
        "id": "76Uk-e9FWT-a"
      },
      "id": "76Uk-e9FWT-a"
    },
    {
      "cell_type": "markdown",
      "source": [
        "**CONCLUSÃO**"
      ],
      "metadata": {
        "id": "90ZqltRgWHdP"
      },
      "id": "90ZqltRgWHdP"
    },
    {
      "cell_type": "markdown",
      "source": [
        "Podemos concluir que indivíduos jovens (14-40 anos), que residem na região do sudeste, com ensino médio e 3º grau completos, possuem mais chances de contrair infecção por sífilis. Os dados também demonstram, tendência de aumento do número de casos, nos próximos anos. As análises geoespaciais, revelaram também, que existem regiões focais no nordeste e sul do país, enquanto o norte, é a região com menos casos notificados."
      ],
      "metadata": {
        "id": "2Tvr2HnZWL3e"
      },
      "id": "2Tvr2HnZWL3e"
    }
  ],
  "metadata": {
    "kernelspec": {
      "display_name": "Python 3 (ipykernel)",
      "language": "python",
      "name": "python3"
    },
    "language_info": {
      "codemirror_mode": {
        "name": "ipython",
        "version": 3
      },
      "file_extension": ".py",
      "mimetype": "text/x-python",
      "name": "python",
      "nbconvert_exporter": "python",
      "pygments_lexer": "ipython3",
      "version": "3.9.18"
    },
    "colab": {
      "provenance": []
    }
  },
  "nbformat": 4,
  "nbformat_minor": 5
}